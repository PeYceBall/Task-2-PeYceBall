{
 "cells": [
  {
   "cell_type": "markdown",
   "metadata": {
    "colab_type": "text",
    "id": "538O_Ht1mML-"
   },
   "source": [
    "## Assignment 2.3: Text classification via RNN (30 points)"
   ]
  },
  {
   "cell_type": "markdown",
   "metadata": {
    "colab_type": "text",
    "id": "O4W068jfmML_"
   },
   "source": [
    "In this assignment you will perform sentiment analysis of the IMDBs reviews by using RNN. An additional goal is to learn high abstactions of the **torchtext** module that consists of data processing utilities and popular datasets for natural language."
   ]
  },
  {
   "cell_type": "code",
   "execution_count": 0,
   "metadata": {
    "colab": {},
    "colab_type": "code",
    "id": "J3VhDxLzmMMA"
   },
   "outputs": [],
   "source": [
    "import pandas as pd\n",
    "import numpy as np\n",
    "import torch\n",
    "\n",
    "from torchtext import datasets\n",
    "\n",
    "from torchtext.data import Field, LabelField\n",
    "from torchtext.data import BucketIterator\n",
    "\n",
    "import torch.nn as nn\n",
    "import torch.nn.functional as F\n",
    "import torch.optim as optim\n",
    "\n",
    "from sklearn.metrics import accuracy_score, f1_score, precision_score, recall_score\n",
    "\n",
    "import matplotlib.pyplot as plt\n",
    "%matplotlib inline\n",
    "import seaborn as sns\n",
    "\n",
    "sns.set(style='darkgrid', font_scale=1.3)"
   ]
  },
  {
   "cell_type": "markdown",
   "metadata": {
    "colab_type": "text",
    "id": "YHYJdgn7mMMG"
   },
   "source": [
    "### Preparing Data"
   ]
  },
  {
   "cell_type": "code",
   "execution_count": 0,
   "metadata": {
    "colab": {},
    "colab_type": "code",
    "id": "-6zKJMB1mMMH"
   },
   "outputs": [],
   "source": [
    "TEXT = Field(sequential=True, lower=True)\n",
    "LABEL = LabelField()"
   ]
  },
  {
   "cell_type": "code",
   "execution_count": 0,
   "metadata": {
    "colab": {},
    "colab_type": "code",
    "id": "xneJS-wcmMMM"
   },
   "outputs": [],
   "source": [
    "train, tst = datasets.IMDB.splits(TEXT, LABEL)\n",
    "trn, vld = train.split()"
   ]
  },
  {
   "cell_type": "code",
   "execution_count": 43,
   "metadata": {
    "colab": {
     "base_uri": "https://localhost:8080/",
     "height": 50
    },
    "colab_type": "code",
    "id": "A4DWPyrsmMMP",
    "outputId": "4e4a1d11-3914-40d1-d5fc-886f1ae59205"
   },
   "outputs": [
    {
     "name": "stdout",
     "output_type": "stream",
     "text": [
      "CPU times: user 1.25 s, sys: 25 ms, total: 1.27 s\n",
      "Wall time: 1.28 s\n"
     ]
    }
   ],
   "source": [
    "%%time\n",
    "TEXT.build_vocab(trn)"
   ]
  },
  {
   "cell_type": "code",
   "execution_count": 0,
   "metadata": {
    "colab": {},
    "colab_type": "code",
    "id": "BraOg4jfmMMT"
   },
   "outputs": [],
   "source": [
    "LABEL.build_vocab(trn)"
   ]
  },
  {
   "cell_type": "markdown",
   "metadata": {
    "colab_type": "text",
    "id": "G9-vQ4tnmMMW"
   },
   "source": [
    "The vocab.freqs is a collections.Counter object, so we can take a look at the most frequent words."
   ]
  },
  {
   "cell_type": "code",
   "execution_count": 45,
   "metadata": {
    "colab": {
     "base_uri": "https://localhost:8080/",
     "height": 185
    },
    "colab_type": "code",
    "id": "aOVVp34ImMMX",
    "outputId": "a1d95578-7a70-4327-b3dc-13fae47b0184"
   },
   "outputs": [
    {
     "data": {
      "text/plain": [
       "[('the', 225144),\n",
       " ('a', 111893),\n",
       " ('and', 110712),\n",
       " ('of', 100624),\n",
       " ('to', 93441),\n",
       " ('is', 72511),\n",
       " ('in', 63342),\n",
       " ('i', 49350),\n",
       " ('this', 48499),\n",
       " ('that', 46229)]"
      ]
     },
     "execution_count": 45,
     "metadata": {
      "tags": []
     },
     "output_type": "execute_result"
    }
   ],
   "source": [
    "TEXT.vocab.freqs.most_common(10)"
   ]
  },
  {
   "cell_type": "markdown",
   "metadata": {
    "colab_type": "text",
    "id": "N3BJX5UQmMMc"
   },
   "source": [
    "### Creating the Iterator (2 points)"
   ]
  },
  {
   "cell_type": "markdown",
   "metadata": {
    "colab_type": "text",
    "id": "K6fCXnCbmMMd"
   },
   "source": [
    "During training, we'll be using a special kind of Iterator, called the **BucketIterator**. When we pass data into a neural network, we want the data to be padded to be the same length so that we can process them in batch:\n",
    "\n",
    "e.g.\n",
    "\\[ \n",
    "\\[3, 15, 2, 7\\],\n",
    "\\[4, 1\\], \n",
    "\\[5, 5, 6, 8, 1\\] \n",
    "\\] -> \\[ \n",
    "\\[3, 15, 2, 7, **0**\\],\n",
    "\\[4, 1, **0**, **0**, **0**\\], \n",
    "\\[5, 5, 6, 8, 1\\] \n",
    "\\] \n",
    "\n",
    "If the sequences differ greatly in length, the padding will consume a lot of wasteful memory and time. The BucketIterator groups sequences of similar lengths together for each batch to minimize padding.\n",
    "\n",
    "Complete the definition of the **BucketIterator** object"
   ]
  },
  {
   "cell_type": "code",
   "execution_count": 0,
   "metadata": {
    "colab": {},
    "colab_type": "code",
    "id": "1nkH068AmMMd"
   },
   "outputs": [],
   "source": [
    "train_iter, val_iter, test_iter = BucketIterator.splits(\n",
    "        (trn, vld, tst),\n",
    "        batch_sizes=(64, 64, 64),\n",
    "        sort=True,\n",
    "        # we don't need to specify sort_key because it is set implicitly in Example object\n",
    "        sort_within_batch=False,\n",
    "        device='cuda',\n",
    "#         device='cpu',\n",
    "        repeat=False\n",
    ")"
   ]
  },
  {
   "cell_type": "markdown",
   "metadata": {
    "colab_type": "text",
    "id": "x5vcttEhmMMh"
   },
   "source": [
    "Let's take a look at what the output of the BucketIterator looks like. Do not be suprised **batch_first=True**"
   ]
  },
  {
   "cell_type": "code",
   "execution_count": 47,
   "metadata": {
    "colab": {
     "base_uri": "https://localhost:8080/",
     "height": 34
    },
    "colab_type": "code",
    "id": "k4SvA32umMMi",
    "outputId": "67342127-e78b-427c-989e-3cfc8e7eec85"
   },
   "outputs": [
    {
     "data": {
      "text/plain": [
       "202820"
      ]
     },
     "execution_count": 47,
     "metadata": {
      "tags": []
     },
     "output_type": "execute_result"
    }
   ],
   "source": [
    "len(TEXT.vocab)"
   ]
  },
  {
   "cell_type": "code",
   "execution_count": 48,
   "metadata": {
    "colab": {
     "base_uri": "https://localhost:8080/",
     "height": 134
    },
    "colab_type": "code",
    "id": "s1i2GMYUmMMl",
    "outputId": "618089fd-0354-426d-e9c3-4fbc64b5123f"
   },
   "outputs": [
    {
     "data": {
      "text/plain": [
       "tensor([[  29,   50,    9,  ...,    9,  572,    9],\n",
       "        [  81, 1166,   14,  ...,  456,   50,  199],\n",
       "        [  10,   47, 2418,  ...,  199,    3,   10],\n",
       "        ...,\n",
       "        [   1,    1,    1,  ...,    1,    1,    1],\n",
       "        [   1,    1,    1,  ...,    1,    1,    1],\n",
       "        [   1,    1,    1,  ...,    1,    1,    1]], device='cuda:0')"
      ]
     },
     "execution_count": 48,
     "metadata": {
      "tags": []
     },
     "output_type": "execute_result"
    }
   ],
   "source": [
    "batch = next(train_iter.__iter__()); batch.text"
   ]
  },
  {
   "cell_type": "markdown",
   "metadata": {
    "colab_type": "text",
    "id": "8WDU3p1jmMMp"
   },
   "source": [
    "The batch has all the fields we passed to the Dataset as attributes. The batch data can be accessed through the attribute with the same name."
   ]
  },
  {
   "cell_type": "code",
   "execution_count": 49,
   "metadata": {
    "colab": {
     "base_uri": "https://localhost:8080/",
     "height": 34
    },
    "colab_type": "code",
    "id": "NP-rvGYbmMMt",
    "outputId": "ad18bb68-97eb-4d9f-d03e-07fbb499c025"
   },
   "outputs": [
    {
     "data": {
      "text/plain": [
       "dict_keys(['batch_size', 'dataset', 'fields', 'input_fields', 'target_fields', 'text', 'label'])"
      ]
     },
     "execution_count": 49,
     "metadata": {
      "tags": []
     },
     "output_type": "execute_result"
    }
   ],
   "source": [
    "batch.__dict__.keys()"
   ]
  },
  {
   "cell_type": "markdown",
   "metadata": {
    "colab_type": "text",
    "id": "aYjTj0w-mMMy"
   },
   "source": [
    "### Define the RNN-based text classification model (10 points)"
   ]
  },
  {
   "cell_type": "markdown",
   "metadata": {
    "colab_type": "text",
    "id": "9mtJoOk0mMMz"
   },
   "source": [
    "Start simple first. Implement the model according to the shema below.  \n",
    "![alt text](https://miro.medium.com/max/1396/1*v-tLYQCsni550A-hznS0mw.jpeg)\n"
   ]
  },
  {
   "cell_type": "code",
   "execution_count": 0,
   "metadata": {
    "colab": {},
    "colab_type": "code",
    "id": "J0DpRSWSmMM0"
   },
   "outputs": [],
   "source": [
    "class RNNBaseline(nn.Module):\n",
    "    def __init__(self, hidden_dim, emb_dim):\n",
    "        super().__init__()\n",
    "        self.emb = nn.Embedding(len(TEXT.vocab), emb_dim)\n",
    "        self.rnn = nn.GRU(emb_dim, hidden_dim, batch_first=False)\n",
    "        self.linear = nn.Linear(hidden_dim, 1)\n",
    "            \n",
    "    def forward(self, seq):\n",
    "        embeddings = self.emb(seq)\n",
    "        last_hidden = self.rnn(embeddings)[1]\n",
    "        # preds are outputs of linear layer BEFORE sigmoid\n",
    "        preds = self.linear(last_hidden).reshape(-1)\n",
    "        return preds"
   ]
  },
  {
   "cell_type": "code",
   "execution_count": 57,
   "metadata": {
    "colab": {
     "base_uri": "https://localhost:8080/",
     "height": 101
    },
    "colab_type": "code",
    "id": "p9FLZheymMM4",
    "outputId": "e1629f36-c1d1-4f78-a19b-37c778700334"
   },
   "outputs": [
    {
     "data": {
      "text/plain": [
       "RNNBaseline(\n",
       "  (emb): Embedding(202820, 200)\n",
       "  (rnn): GRU(200, 300)\n",
       "  (linear): Linear(in_features=300, out_features=1, bias=True)\n",
       ")"
      ]
     },
     "execution_count": 57,
     "metadata": {
      "tags": []
     },
     "output_type": "execute_result"
    }
   ],
   "source": [
    "em_sz = 200\n",
    "nh = 300\n",
    "model = RNNBaseline(nh, emb_dim=em_sz); model"
   ]
  },
  {
   "cell_type": "markdown",
   "metadata": {
    "colab_type": "text",
    "id": "8cP5PsfNmMM7"
   },
   "source": [
    "If you're using a GPU, remember to call model.cuda() to move your model to the GPU."
   ]
  },
  {
   "cell_type": "code",
   "execution_count": 58,
   "metadata": {
    "colab": {
     "base_uri": "https://localhost:8080/",
     "height": 101
    },
    "colab_type": "code",
    "id": "0dO8D1DxmMM8",
    "outputId": "4561a444-c3b0-441f-cad2-01326ed689ac"
   },
   "outputs": [
    {
     "data": {
      "text/plain": [
       "RNNBaseline(\n",
       "  (emb): Embedding(202820, 200)\n",
       "  (rnn): GRU(200, 300)\n",
       "  (linear): Linear(in_features=300, out_features=1, bias=True)\n",
       ")"
      ]
     },
     "execution_count": 58,
     "metadata": {
      "tags": []
     },
     "output_type": "execute_result"
    }
   ],
   "source": [
    "model.cuda()"
   ]
  },
  {
   "cell_type": "markdown",
   "metadata": {
    "colab_type": "text",
    "id": "OLxyIOpImMM-"
   },
   "source": [
    "### The training loop (3 points)"
   ]
  },
  {
   "cell_type": "markdown",
   "metadata": {
    "colab_type": "text",
    "id": "M-YF9MldmMM_"
   },
   "source": [
    "Define the optimization and the loss functions."
   ]
  },
  {
   "cell_type": "code",
   "execution_count": 0,
   "metadata": {
    "colab": {},
    "colab_type": "code",
    "id": "cHBjSsLRmMNC"
   },
   "outputs": [],
   "source": [
    "learning_rate = 1e-3\n",
    "opt = optim.Adam(model.parameters(), lr=learning_rate)\n",
    "loss_func = nn.BCEWithLogitsLoss()"
   ]
  },
  {
   "cell_type": "markdown",
   "metadata": {
    "colab_type": "text",
    "id": "sz6NX0_8mMNF"
   },
   "source": [
    "Define the stopping criteria."
   ]
  },
  {
   "cell_type": "code",
   "execution_count": 0,
   "metadata": {
    "colab": {},
    "colab_type": "code",
    "id": "M4M6qTAlmMNF"
   },
   "outputs": [],
   "source": [
    "epochs = 25"
   ]
  },
  {
   "cell_type": "code",
   "execution_count": 0,
   "metadata": {
    "colab": {},
    "colab_type": "code",
    "id": "pX4T_oaRmMNJ"
   },
   "outputs": [],
   "source": [
    "def train_loop():\n",
    "    for epoch in range(1, epochs + 1):\n",
    "        running_loss = 0.0\n",
    "        running_corrects = 0\n",
    "        model.train() \n",
    "        for batch in train_iter:           \n",
    "            x = batch.text\n",
    "            y = batch.label\n",
    "\n",
    "            opt.zero_grad()\n",
    "            preds = model(x)\n",
    "            loss = loss_func(preds, y.float())\n",
    "            loss.backward()\n",
    "            opt.step()\n",
    "            running_loss += loss.item()\n",
    "\n",
    "        epoch_loss = running_loss / len(trn)\n",
    "        train_loss_history.append(epoch_loss)\n",
    "\n",
    "        val_loss = 0.0\n",
    "        model.eval()\n",
    "        for batch in val_iter:\n",
    "            x = batch.text\n",
    "            y = batch.label\n",
    "\n",
    "            preds = model(x) \n",
    "            loss = loss_func(preds, y.float())\n",
    "            val_loss += loss.item()\n",
    "          \n",
    "        val_loss /= len(vld)\n",
    "        valid_loss_history.append(val_loss)\n",
    "        print('Epoch: {}, Training Loss: {}, Validation Loss: {}'.format(\n",
    "          epoch, epoch_loss, val_loss))"
   ]
  },
  {
   "cell_type": "code",
   "execution_count": 61,
   "metadata": {
    "colab": {
     "base_uri": "https://localhost:8080/",
     "height": 470
    },
    "colab_type": "code",
    "id": "_766Lzczm6s8",
    "outputId": "98d088b2-8e17-4f93-b764-ec8d9dce4b48"
   },
   "outputs": [
    {
     "name": "stdout",
     "output_type": "stream",
     "text": [
      "Epoch: 1, Training Loss: 0.010951032982553755, Validation Loss: 0.010909023213386536\n",
      "Epoch: 2, Training Loss: 0.01079215990134648, Validation Loss: 0.010746264251073202\n",
      "Epoch: 3, Training Loss: 0.009350192928314209, Validation Loss: 0.008579478259881337\n",
      "Epoch: 4, Training Loss: 0.004811991492339543, Validation Loss: 0.007020445138216019\n",
      "Epoch: 5, Training Loss: 0.0019441222961992025, Validation Loss: 0.008584113729000092\n",
      "Epoch: 6, Training Loss: 0.0007047856861991541, Validation Loss: 0.010602376333872477\n",
      "Epoch: 7, Training Loss: 0.00037709978071174454, Validation Loss: 0.012323990674813589\n",
      "Epoch: 8, Training Loss: 0.00016102776816447398, Validation Loss: 0.015453861232598622\n",
      "Epoch: 9, Training Loss: 0.0002321602637846289, Validation Loss: 0.011648448757330577\n",
      "Epoch: 10, Training Loss: 0.0002583252216689289, Validation Loss: 0.014609677033343663\n",
      "Epoch: 11, Training Loss: 9.73685407096387e-05, Validation Loss: 0.014716361463814973\n",
      "Epoch: 12, Training Loss: 0.00010980532141651825, Validation Loss: 0.016340763567139704\n",
      "Epoch: 13, Training Loss: 6.155749551918624e-05, Validation Loss: 0.01912698755400876\n",
      "Epoch: 14, Training Loss: 4.3578250352376405e-05, Validation Loss: 0.020549820550282795\n",
      "Epoch: 15, Training Loss: 4.393616939196363e-05, Validation Loss: 0.016392419014001885\n",
      "Epoch: 16, Training Loss: 8.029685955137081e-05, Validation Loss: 0.01706591380437215\n",
      "Epoch: 17, Training Loss: 0.00012180804468225687, Validation Loss: 0.015492335418860118\n",
      "Epoch: 18, Training Loss: 6.588197078339623e-05, Validation Loss: 0.016720530311266583\n",
      "Epoch: 19, Training Loss: 8.312433500666104e-05, Validation Loss: 0.016895731977621713\n",
      "Epoch: 20, Training Loss: 7.26416371247199e-05, Validation Loss: 0.01564961186250051\n",
      "Epoch: 21, Training Loss: 3.779725799436814e-05, Validation Loss: 0.013528975969552994\n",
      "Epoch: 22, Training Loss: 7.795050458911906e-05, Validation Loss: 0.015657375824451446\n",
      "Epoch: 23, Training Loss: 2.2283312671009167e-05, Validation Loss: 0.01771777137517929\n",
      "Epoch: 24, Training Loss: 6.763551211926305e-07, Validation Loss: 0.020069710324207943\n",
      "Epoch: 25, Training Loss: 5.424627464240725e-07, Validation Loss: 0.020842944667736688\n",
      "CPU times: user 10min 38s, sys: 3min 25s, total: 14min 4s\n",
      "Wall time: 14min 12s\n"
     ]
    }
   ],
   "source": [
    "%%time\n",
    "\n",
    "train_loss_history = []\n",
    "valid_loss_history = []\n",
    "\n",
    "train_loop()"
   ]
  },
  {
   "cell_type": "code",
   "execution_count": 62,
   "metadata": {
    "colab": {
     "base_uri": "https://localhost:8080/",
     "height": 508
    },
    "colab_type": "code",
    "id": "spTJySnOmMNM",
    "outputId": "4aa0d84d-eab4-41fc-f541-ccf1e447d918"
   },
   "outputs": [
    {
     "data": {
      "image/png": "[encoded data removed]",
      "text/plain": [
       "<Figure size 1080x576 with 1 Axes>"
      ]
     },
     "metadata": {
      "tags": []
     },
     "output_type": "display_data"
    }
   ],
   "source": [
    "plt.figure(figsize=(15, 8))\n",
    "plt.plot(np.arange(epochs) + 1, train_loss_history, label='train')\n",
    "plt.plot(np.arange(epochs) + 1, valid_loss_history, label='valid')\n",
    "plt.xlabel('epoch')\n",
    "plt.ylabel('loss')\n",
    "plt.legend()\n",
    "plt.show()"
   ]
  },
  {
   "cell_type": "markdown",
   "metadata": {
    "colab_type": "text",
    "id": "Tl3_ZfQOseT0"
   },
   "source": [
    "It seems that model is overfitting: loss on train is close to zero while loss on validation is increasing. Let's reduce `epochs` to $4$."
   ]
  },
  {
   "cell_type": "code",
   "execution_count": 0,
   "metadata": {
    "colab": {},
    "colab_type": "code",
    "id": "nH1m4ucKstDL"
   },
   "outputs": [],
   "source": [
    "em_sz = 200\n",
    "nh = 300\n",
    "model = RNNBaseline(nh, emb_dim=em_sz)\n",
    "model.cuda()\n",
    "learning_rate = 1e-3\n",
    "opt = optim.Adam(model.parameters(), lr=learning_rate)\n",
    "loss_func = nn.BCEWithLogitsLoss()\n",
    "epochs = 4"
   ]
  },
  {
   "cell_type": "code",
   "execution_count": 64,
   "metadata": {
    "colab": {
     "base_uri": "https://localhost:8080/",
     "height": 118
    },
    "colab_type": "code",
    "id": "KFJhfEmMs2OB",
    "outputId": "bed07198-5cf6-4385-a15d-4cd5a275dd1e"
   },
   "outputs": [
    {
     "name": "stdout",
     "output_type": "stream",
     "text": [
      "Epoch: 1, Training Loss: 0.010970963273729597, Validation Loss: 0.01090689890384674\n",
      "Epoch: 2, Training Loss: 0.010694666007586888, Validation Loss: 0.010977012586593627\n",
      "Epoch: 3, Training Loss: 0.009757140828881945, Validation Loss: 0.010471367144584656\n",
      "Epoch: 4, Training Loss: 0.006684399534123284, Validation Loss: 0.006333266405264537\n",
      "CPU times: user 1min 42s, sys: 32.7 s, total: 2min 14s\n",
      "Wall time: 2min 16s\n"
     ]
    }
   ],
   "source": [
    "%%time\n",
    "\n",
    "train_loss_history = []\n",
    "valid_loss_history = []\n",
    "\n",
    "train_loop()"
   ]
  },
  {
   "cell_type": "code",
   "execution_count": 65,
   "metadata": {
    "colab": {
     "base_uri": "https://localhost:8080/",
     "height": 508
    },
    "colab_type": "code",
    "id": "rH_2ar0ztZSc",
    "outputId": "a4c5f6f3-a909-423d-8690-2f579823040d"
   },
   "outputs": [
    {
     "data": {
      "image/png": "[encoded data removed]",
      "text/plain": [
       "<Figure size 1080x576 with 1 Axes>"
      ]
     },
     "metadata": {
      "tags": []
     },
     "output_type": "display_data"
    }
   ],
   "source": [
    "plt.figure(figsize=(15, 8))\n",
    "plt.plot(np.arange(epochs) + 1, train_loss_history, label='train')\n",
    "plt.plot(np.arange(epochs) + 1, valid_loss_history, label='valid')\n",
    "plt.xlabel('epoch')\n",
    "plt.ylabel('loss')\n",
    "plt.legend()\n",
    "plt.show()"
   ]
  },
  {
   "cell_type": "markdown",
   "metadata": {
    "colab_type": "text",
    "id": "cNNcwjskmMNO"
   },
   "source": [
    "### Calculate performance of the trained model (5 points)"
   ]
  },
  {
   "cell_type": "code",
   "execution_count": 0,
   "metadata": {
    "colab": {},
    "colab_type": "code",
    "id": "Wff1pVtqmMNP"
   },
   "outputs": [],
   "source": [
    "y_pred = []\n",
    "y_true = []\n",
    "model.eval()\n",
    "\n",
    "for batch in test_iter:\n",
    "    x = batch.text\n",
    "    y = batch.label\n",
    "\n",
    "    y_pred += list((torch.sigmoid(model(x)) >= 0.5).detach().cpu().numpy())\n",
    "    y_true += list((y.detach().cpu().numpy()))"
   ]
  },
  {
   "cell_type": "code",
   "execution_count": 84,
   "metadata": {
    "colab": {
     "base_uri": "https://localhost:8080/",
     "height": 84
    },
    "colab_type": "code",
    "id": "_tmiVtzZtxUh",
    "outputId": "804993c0-7579-4a18-d85b-840f7383e8b4"
   },
   "outputs": [
    {
     "name": "stdout",
     "output_type": "stream",
     "text": [
      "0.83196\n",
      "0.8336415534292836\n",
      "0.82944\n",
      "0.8315354693828448\n"
     ]
    }
   ],
   "source": [
    "print(accuracy_score(y_true, y_pred))\n",
    "print(precision_score(y_true, y_pred))\n",
    "print(recall_score(y_true, y_pred))\n",
    "print(f1_score(y_true, y_pred))"
   ]
  },
  {
   "cell_type": "markdown",
   "metadata": {
    "colab_type": "text",
    "id": "wcpAv3LjmMNR"
   },
   "source": [
    "Write down the calculated performance\n",
    "\n",
    "### Accuracy: 0.83196\n",
    "### Precision: 0.8336\n",
    "### Recall: 0.82944\n",
    "### F1: 0.8315"
   ]
  },
  {
   "cell_type": "markdown",
   "metadata": {
    "colab_type": "text",
    "id": "4URVaBG5mMNS"
   },
   "source": [
    "### Experiments (10 points)\n",
    "\n",
    "Experiment with the model and achieve better results. You can find advices [here](https://arxiv.org/abs/1801.06146). Implement and describe your experiments in details, mention what was helpful."
   ]
  },
  {
   "cell_type": "markdown",
   "metadata": {
    "colab_type": "text",
    "id": "30YT_rOfmMNT"
   },
   "source": [
    "### 1. WORK IN PROGRESS\n",
    "### 2. ?\n",
    "### 3. ?"
   ]
  },
  {
   "cell_type": "code",
   "execution_count": null,
   "metadata": {},
   "outputs": [],
   "source": []
  }
 ],
 "metadata": {
  "accelerator": "GPU",
  "colab": {
   "collapsed_sections": [],
   "name": "task3_sentiment_rnn.ipynb",
   "provenance": []
  },
  "kernelspec": {
   "display_name": "Python 3",
   "language": "python",
   "name": "python3"
  },
  "language_info": {
   "codemirror_mode": {
    "name": "ipython",
    "version": 3
   },
   "file_extension": ".py",
   "mimetype": "text/x-python",
   "name": "python",
   "nbconvert_exporter": "python",
   "pygments_lexer": "ipython3",
   "version": "3.7.6"
  },
  "notify_time": "10"
 },
 "nbformat": 4,
 "nbformat_minor": 1
}
