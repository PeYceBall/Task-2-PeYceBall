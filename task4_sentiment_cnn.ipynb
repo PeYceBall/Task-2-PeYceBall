{
  "nbformat": 4,
  "nbformat_minor": 0,
  "metadata": {
    "kernelspec": {
      "name": "python3",
      "display_name": "Python 3"
    },
    "language_info": {
      "codemirror_mode": {
        "name": "ipython",
        "version": 3
      },
      "file_extension": ".py",
      "mimetype": "text/x-python",
      "name": "python",
      "nbconvert_exporter": "python",
      "pygments_lexer": "ipython3",
      "version": "3.6.9"
    },
    "colab": {
      "name": "task4_sentiment_cnn.ipynb",
      "provenance": [],
      "collapsed_sections": []
    },
    "accelerator": "GPU"
  },
  "cells": [
    {
      "cell_type": "markdown",
      "metadata": {
        "id": "hBvZWeIwdoYF",
        "colab_type": "text"
      },
      "source": [
        "## Assignment 2.4: Text classification via CNN (20 points)"
      ]
    },
    {
      "cell_type": "markdown",
      "metadata": {
        "id": "yKp9f0eqdoYG",
        "colab_type": "text"
      },
      "source": [
        "In this assignment you should perform sentiment analysis of the IMDB reviews based on CNN architecture. Read carefully [Convolutional Neural Networks for Sentence Classification](https://arxiv.org/pdf/1408.5882.pdf) by Yoon Kim."
      ]
    },
    {
      "cell_type": "code",
      "metadata": {
        "id": "j-jdUF1idoYG",
        "colab_type": "code",
        "colab": {
          "base_uri": "https://localhost:8080/",
          "height": 70
        },
        "outputId": "600d0a6b-f7b5-4527-cedc-7995dd65a42b"
      },
      "source": [
        "import numpy as np\n",
        "import torch\n",
        "\n",
        "import torch.nn as nn\n",
        "import torch.nn.functional as F\n",
        "import torch.optim as optim\n",
        "\n",
        "from torchtext import datasets\n",
        "from torchtext.data import Field, LabelField\n",
        "from torchtext.data import BucketIterator\n",
        "from torchtext.data import Iterator\n",
        "\n",
        "from sklearn.metrics import accuracy_score, f1_score, precision_score, recall_score\n",
        "\n",
        "import matplotlib.pyplot as plt\n",
        "%matplotlib inline\n",
        "import seaborn as sns\n",
        "\n",
        "sns.set(style='darkgrid', font_scale=1.3)"
      ],
      "execution_count": 1,
      "outputs": [
        {
          "output_type": "stream",
          "text": [
            "/usr/local/lib/python3.6/dist-packages/statsmodels/tools/_testing.py:19: FutureWarning: pandas.util.testing is deprecated. Use the functions in the public API at pandas.testing instead.\n",
            "  import pandas.util.testing as tm\n"
          ],
          "name": "stderr"
        }
      ]
    },
    {
      "cell_type": "markdown",
      "metadata": {
        "id": "XqidL-hkdoYM",
        "colab_type": "text"
      },
      "source": [
        "### Preparing Data"
      ]
    },
    {
      "cell_type": "code",
      "metadata": {
        "id": "WG01TrORdoYQ",
        "colab_type": "code",
        "colab": {}
      },
      "source": [
        "TEXT = Field(sequential=True, lower=True, batch_first=True)\n",
        "LABEL = LabelField(batch_first=True)"
      ],
      "execution_count": 0,
      "outputs": []
    },
    {
      "cell_type": "code",
      "metadata": {
        "id": "bmW8msgLdoYV",
        "colab_type": "code",
        "outputId": "f186ab99-7a59-4da3-b286-97c951d5c733",
        "colab": {
          "base_uri": "https://localhost:8080/",
          "height": 50
        }
      },
      "source": [
        "train, tst = datasets.IMDB.splits(TEXT, LABEL)\n",
        "trn, vld = train.split()"
      ],
      "execution_count": 3,
      "outputs": [
        {
          "output_type": "stream",
          "text": [
            "aclImdb_v1.tar.gz:   0%|          | 115k/84.1M [00:00<01:13, 1.15MB/s]"
          ],
          "name": "stderr"
        },
        {
          "output_type": "stream",
          "text": [
            "downloading aclImdb_v1.tar.gz\n"
          ],
          "name": "stdout"
        },
        {
          "output_type": "stream",
          "text": [
            "aclImdb_v1.tar.gz: 100%|██████████| 84.1M/84.1M [00:01<00:00, 47.7MB/s]\n"
          ],
          "name": "stderr"
        }
      ]
    },
    {
      "cell_type": "code",
      "metadata": {
        "id": "172KZnkhdoYZ",
        "colab_type": "code",
        "colab": {}
      },
      "source": [
        "# %%time\n",
        "TEXT.build_vocab(trn)"
      ],
      "execution_count": 0,
      "outputs": []
    },
    {
      "cell_type": "code",
      "metadata": {
        "id": "C6eQOoU2doYh",
        "colab_type": "code",
        "colab": {}
      },
      "source": [
        "LABEL.build_vocab(trn)"
      ],
      "execution_count": 0,
      "outputs": []
    },
    {
      "cell_type": "markdown",
      "metadata": {
        "id": "xiW5yU4gdoYm",
        "colab_type": "text"
      },
      "source": [
        "### Creating the Iterator (2 points)"
      ]
    },
    {
      "cell_type": "markdown",
      "metadata": {
        "id": "Wz-NOrLydoYn",
        "colab_type": "text"
      },
      "source": [
        "Define an iterator here"
      ]
    },
    {
      "cell_type": "code",
      "metadata": {
        "id": "TC4E5ftudoYn",
        "colab_type": "code",
        "colab": {}
      },
      "source": [
        "train_iter, val_iter, test_iter = BucketIterator.splits(\n",
        "        (trn, vld, tst),\n",
        "        batch_sizes=(64, 64, 64),\n",
        "        sort=True,\n",
        "        sort_within_batch=False,\n",
        "        device='cuda',\n",
        "        # device='cpu',\n",
        "        repeat=False\n",
        ")"
      ],
      "execution_count": 0,
      "outputs": []
    },
    {
      "cell_type": "markdown",
      "metadata": {
        "id": "hDutwXdddoYq",
        "colab_type": "text"
      },
      "source": [
        "### Define CNN-based text classification model (8 points)"
      ]
    },
    {
      "cell_type": "code",
      "metadata": {
        "id": "X1DIGBoXdoYr",
        "colab_type": "code",
        "colab": {}
      },
      "source": [
        "class CNN(nn.Module):\n",
        "    def __init__(self, V, D, kernel_sizes, out_channels, dropout=0.5):\n",
        "        super(CNN, self).__init__()\n",
        "        \n",
        "        self.emb = nn.Embedding(V, D)\n",
        "        # self.convs = nn.ModuleList([nn.Conv1d(D, 1, (K, D)) \n",
        "        #     for K in kernel_sizes])\n",
        "        self.convs = nn.ModuleList([nn.Conv1d(D, out_channels, K) \n",
        "            for K in kernel_sizes])\n",
        "        self.dropout = nn.Dropout(dropout)\n",
        "        self.linear = nn.Linear(out_channels * len(kernel_sizes), 1)\n",
        "        \n",
        "    def forward(self, x):\n",
        "        x = self.emb(x)\n",
        "        x = x.permute(0, 2, 1)\n",
        "        x = [F.relu(conv(x))for conv in self.convs]\n",
        "        x = [F.max_pool1d(i, i.size(2)).squeeze(2) for i in x]\n",
        "        x = torch.cat(x, 1)\n",
        "        x = self.dropout(x)\n",
        "        logit = self.linear(x).reshape(-1)\n",
        "        return logit"
      ],
      "execution_count": 0,
      "outputs": []
    },
    {
      "cell_type": "code",
      "metadata": {
        "id": "ncJurXUmdoYt",
        "colab_type": "code",
        "colab": {}
      },
      "source": [
        "kernel_sizes = [3,4,5]\n",
        "vocab_size = len(TEXT.vocab)\n",
        "dropout = 0.5\n",
        "dim = 300\n",
        "out_channels = 100\n",
        "\n",
        "model = CNN(vocab_size, dim, kernel_sizes, out_channels, dropout)"
      ],
      "execution_count": 0,
      "outputs": []
    },
    {
      "cell_type": "code",
      "metadata": {
        "id": "CbUx9yfEdoYz",
        "colab_type": "code",
        "colab": {
          "base_uri": "https://localhost:8080/",
          "height": 185
        },
        "outputId": "38c4552a-fecd-4ca9-b7ec-adfd320641d0"
      },
      "source": [
        "model.cuda()"
      ],
      "execution_count": 23,
      "outputs": [
        {
          "output_type": "execute_result",
          "data": {
            "text/plain": [
              "CNN(\n",
              "  (emb): Embedding(201698, 300)\n",
              "  (convs): ModuleList(\n",
              "    (0): Conv1d(300, 100, kernel_size=(3,), stride=(1,))\n",
              "    (1): Conv1d(300, 100, kernel_size=(4,), stride=(1,))\n",
              "    (2): Conv1d(300, 100, kernel_size=(5,), stride=(1,))\n",
              "  )\n",
              "  (dropout): Dropout(p=0.5, inplace=False)\n",
              "  (linear): Linear(in_features=300, out_features=1, bias=True)\n",
              ")"
            ]
          },
          "metadata": {
            "tags": []
          },
          "execution_count": 23
        }
      ]
    },
    {
      "cell_type": "markdown",
      "metadata": {
        "id": "ZocGEGBxdoY4",
        "colab_type": "text"
      },
      "source": [
        "### The training loop (3 points)"
      ]
    },
    {
      "cell_type": "markdown",
      "metadata": {
        "id": "chHYTACadoY4",
        "colab_type": "text"
      },
      "source": [
        "Define the optimization function and the loss functions."
      ]
    },
    {
      "cell_type": "code",
      "metadata": {
        "id": "ETyRqpS7doY5",
        "colab_type": "code",
        "colab": {}
      },
      "source": [
        "learning_rate = 1e-3\n",
        "opt = optim.Adam(model.parameters(), lr=learning_rate)\n",
        "loss_func = nn.BCEWithLogitsLoss()"
      ],
      "execution_count": 0,
      "outputs": []
    },
    {
      "cell_type": "markdown",
      "metadata": {
        "id": "raP_m0bKdoY8",
        "colab_type": "text"
      },
      "source": [
        "Think carefully about the stopping criteria. "
      ]
    },
    {
      "cell_type": "code",
      "metadata": {
        "id": "I9fqNp7-doY9",
        "colab_type": "code",
        "colab": {}
      },
      "source": [
        "epochs = 30"
      ],
      "execution_count": 0,
      "outputs": []
    },
    {
      "cell_type": "code",
      "metadata": {
        "id": "EyHCqvbBdoZC",
        "colab_type": "code",
        "colab": {}
      },
      "source": [
        "def train_loop():\n",
        "    for epoch in range(1, epochs + 1):\n",
        "        running_loss = 0.0\n",
        "        running_corrects = 0\n",
        "        model.train() \n",
        "        for batch in train_iter:           \n",
        "            x = batch.text\n",
        "            y = batch.label\n",
        "\n",
        "            opt.zero_grad()\n",
        "            preds = model(x)\n",
        "            loss = loss_func(preds, y.float())\n",
        "            loss.backward()\n",
        "            opt.step()\n",
        "            running_loss += loss.item()\n",
        "\n",
        "        torch.save(model.state_dict(), f'cnn_base_{epoch}.pt')\n",
        "        epoch_loss = running_loss / len(trn)\n",
        "        train_loss_history.append(epoch_loss)\n",
        "\n",
        "        val_loss = 0.0\n",
        "        model.eval()\n",
        "        for batch in val_iter:\n",
        "            x = batch.text\n",
        "            y = batch.label\n",
        "\n",
        "            preds = model(x) \n",
        "            loss = loss_func(preds, y.float())\n",
        "            val_loss += loss.item()\n",
        "          \n",
        "        val_loss /= len(vld)\n",
        "        valid_loss_history.append(val_loss)\n",
        "        print('Epoch: {}, Training Loss: {}, Validation Loss: {}'.format(\n",
        "          epoch, epoch_loss, val_loss))"
      ],
      "execution_count": 0,
      "outputs": []
    },
    {
      "cell_type": "code",
      "metadata": {
        "id": "kFh3nUACfxee",
        "colab_type": "code",
        "colab": {
          "base_uri": "https://localhost:8080/",
          "height": 554
        },
        "outputId": "138b4892-a6ed-44b1-ab20-4bf7191efc99"
      },
      "source": [
        "%%time\n",
        "\n",
        "train_loss_history = []\n",
        "valid_loss_history = []\n",
        "\n",
        "train_loop()"
      ],
      "execution_count": 27,
      "outputs": [
        {
          "output_type": "stream",
          "text": [
            "Epoch: 1, Training Loss: 0.009720080760547093, Validation Loss: 0.007165106495221456\n",
            "Epoch: 2, Training Loss: 0.007301585112299238, Validation Loss: 0.0064335808674494425\n",
            "Epoch: 3, Training Loss: 0.006134698700053351, Validation Loss: 0.005580290647347768\n",
            "Epoch: 4, Training Loss: 0.00485636630824634, Validation Loss: 0.005603609291712443\n",
            "Epoch: 5, Training Loss: 0.0034554493248462677, Validation Loss: 0.005549495093027751\n",
            "Epoch: 6, Training Loss: 0.0023010601148009302, Validation Loss: 0.006439545915524165\n",
            "Epoch: 7, Training Loss: 0.0014249966422361987, Validation Loss: 0.0066114761610825854\n",
            "Epoch: 8, Training Loss: 0.0008963198467024735, Validation Loss: 0.007220714261134465\n",
            "Epoch: 9, Training Loss: 0.0005791894875067685, Validation Loss: 0.007688733375072479\n",
            "Epoch: 10, Training Loss: 0.00038383525735698643, Validation Loss: 0.011507985673348108\n",
            "Epoch: 11, Training Loss: 0.00024029919810792698, Validation Loss: 0.010932444900274276\n",
            "Epoch: 12, Training Loss: 0.0002012422246209878, Validation Loss: 0.0105637410958608\n",
            "Epoch: 13, Training Loss: 0.00013219298362715303, Validation Loss: 0.010691949264208475\n",
            "Epoch: 14, Training Loss: 0.0001257278402211211, Validation Loss: 0.012080072164535523\n",
            "Epoch: 15, Training Loss: 0.00010815815722120793, Validation Loss: 0.01281489157875379\n",
            "Epoch: 16, Training Loss: 7.516410306104393e-05, Validation Loss: 0.012143375957012176\n",
            "Epoch: 17, Training Loss: 7.990407438815704e-05, Validation Loss: 0.01388113257487615\n",
            "Epoch: 18, Training Loss: 6.815196786961419e-05, Validation Loss: 0.012292695264021556\n",
            "Epoch: 19, Training Loss: 5.510886994494026e-05, Validation Loss: 0.017483764620622\n",
            "Epoch: 20, Training Loss: 4.999458674802944e-05, Validation Loss: 0.013760565708080928\n",
            "Epoch: 21, Training Loss: 5.614188675395521e-05, Validation Loss: 0.014101744707425435\n",
            "Epoch: 22, Training Loss: 4.7775781082028906e-05, Validation Loss: 0.01466370894710223\n",
            "Epoch: 23, Training Loss: 7.502710899212357e-05, Validation Loss: 0.016050019121170045\n",
            "Epoch: 24, Training Loss: 7.330859602707279e-05, Validation Loss: 0.01733606700102488\n",
            "Epoch: 25, Training Loss: 6.34936887879251e-05, Validation Loss: 0.01712928061882655\n",
            "Epoch: 26, Training Loss: 8.632229782283503e-05, Validation Loss: 0.016915369347731274\n",
            "Epoch: 27, Training Loss: 7.96336305622747e-05, Validation Loss: 0.0212796710173289\n",
            "Epoch: 28, Training Loss: 8.666648858390674e-05, Validation Loss: 0.022668176619211833\n",
            "Epoch: 29, Training Loss: 5.717091606281883e-05, Validation Loss: 0.019768278431892394\n",
            "Epoch: 30, Training Loss: 9.944261903325439e-05, Validation Loss: 0.024755541865030924\n",
            "CPU times: user 3min 14s, sys: 1min 33s, total: 4min 47s\n",
            "Wall time: 4min 52s\n"
          ],
          "name": "stdout"
        }
      ]
    },
    {
      "cell_type": "code",
      "metadata": {
        "id": "cVqWcUgDyh1j",
        "colab_type": "code",
        "colab": {
          "base_uri": "https://localhost:8080/",
          "height": 508
        },
        "outputId": "4b1df8d5-ccd6-4c9d-eb3f-eb507f262e83"
      },
      "source": [
        "plt.figure(figsize=(15, 8))\n",
        "plt.plot(np.arange(epochs) + 1, train_loss_history, label='train')\n",
        "plt.plot(np.arange(epochs) + 1, valid_loss_history, label='valid')\n",
        "plt.xlabel('epoch')\n",
        "plt.ylabel('loss')\n",
        "plt.legend()\n",
        "plt.show()"
      ],
      "execution_count": 28,
      "outputs": [
        {
          "output_type": "display_data",
          "data": {
            "image/png": "[encoded data removed]",
            "text/plain": [
              "<Figure size 1080x576 with 1 Axes>"
            ]
          },
          "metadata": {
            "tags": []
          }
        }
      ]
    },
    {
      "cell_type": "markdown",
      "metadata": {
        "id": "Q5XXrase412n",
        "colab_type": "text"
      },
      "source": [
        "It seems that model on epoch $5$ had the best score on validation, then model started to overfit."
      ]
    },
    {
      "cell_type": "code",
      "metadata": {
        "id": "4c7Aikw45FcU",
        "colab_type": "code",
        "colab": {
          "base_uri": "https://localhost:8080/",
          "height": 34
        },
        "outputId": "deb23bcf-8818-4b02-c9a1-fa5916a4fdd2"
      },
      "source": [
        "model.load_state_dict(torch.load('cnn_base_5.pt'))"
      ],
      "execution_count": 29,
      "outputs": [
        {
          "output_type": "execute_result",
          "data": {
            "text/plain": [
              "<All keys matched successfully>"
            ]
          },
          "metadata": {
            "tags": []
          },
          "execution_count": 29
        }
      ]
    },
    {
      "cell_type": "markdown",
      "metadata": {
        "id": "OR4NhfXQdoZG",
        "colab_type": "text"
      },
      "source": [
        "### Calculate performance of the trained model (2 points)"
      ]
    },
    {
      "cell_type": "code",
      "metadata": {
        "id": "GHkZKbRydoZH",
        "colab_type": "code",
        "colab": {}
      },
      "source": [
        "y_pred = []\n",
        "y_true = []\n",
        "model.eval()\n",
        "\n",
        "for batch in test_iter:\n",
        "    x = batch.text\n",
        "    y = batch.label\n",
        "\n",
        "    y_pred += list((torch.sigmoid(model(x)) >= 0.5).detach().cpu().numpy())\n",
        "    y_true += list((y.detach().cpu().numpy()))"
      ],
      "execution_count": 0,
      "outputs": []
    },
    {
      "cell_type": "code",
      "metadata": {
        "id": "arNJzTn15224",
        "colab_type": "code",
        "colab": {
          "base_uri": "https://localhost:8080/",
          "height": 84
        },
        "outputId": "aaa181d2-0819-4c40-aa10-aadece50c94e"
      },
      "source": [
        "print(accuracy_score(y_true, y_pred))\n",
        "print(precision_score(y_true, y_pred))\n",
        "print(recall_score(y_true, y_pred))\n",
        "print(f1_score(y_true, y_pred))"
      ],
      "execution_count": 31,
      "outputs": [
        {
          "output_type": "stream",
          "text": [
            "0.84932\n",
            "0.9170885471391728\n",
            "0.76808\n",
            "0.8359963428969481\n"
          ],
          "name": "stdout"
        }
      ]
    },
    {
      "cell_type": "markdown",
      "metadata": {
        "id": "Yr2gFraadoZJ",
        "colab_type": "text"
      },
      "source": [
        "Write down the calculated performance\n",
        "\n",
        "### Accuracy: 0.84932\n",
        "### Precision: 0.91709\n",
        "### Recall: 0.76808\n",
        "### F1: 0.835996"
      ]
    },
    {
      "cell_type": "markdown",
      "metadata": {
        "id": "So-Ay2bIdoZJ",
        "colab_type": "text"
      },
      "source": [
        "### Experiments (5 points)\n",
        "\n",
        "Experiment with the model and achieve better results. Implement and describe your experiments in details, mention what was helpful."
      ]
    },
    {
      "cell_type": "markdown",
      "metadata": {
        "id": "MJAqWiW-doZK",
        "colab_type": "text"
      },
      "source": [
        "### 1. WORK IN PROGRESS(maybe)\n",
        "### 2. ?\n",
        "### 3. ?"
      ]
    },
    {
      "cell_type": "code",
      "metadata": {
        "id": "97HacF5xK2eV",
        "colab_type": "code",
        "colab": {}
      },
      "source": [
        ""
      ],
      "execution_count": 0,
      "outputs": []
    }
  ]
}